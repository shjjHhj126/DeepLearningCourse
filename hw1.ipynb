{
  "cells": [
    {
      "cell_type": "markdown",
      "metadata": {
        "id": "CsjmYm-q20WA"
      },
      "source": [
        "###Prepare"
      ]
    },
    {
      "cell_type": "code",
      "execution_count": 1,
      "metadata": {
        "colab": {
          "base_uri": "https://localhost:8080/"
        },
        "id": "hY7Z0x6KZYdT",
        "outputId": "02b76c91-04d6-4e2f-e718-00af49017d5a"
      },
      "outputs": [
        {
          "output_type": "stream",
          "name": "stdout",
          "text": [
            "drive  sample_data\n"
          ]
        }
      ],
      "source": [
        "!ls"
      ]
    },
    {
      "cell_type": "code",
      "execution_count": 2,
      "metadata": {
        "colab": {
          "base_uri": "https://localhost:8080/"
        },
        "id": "zqk-JDJo23KS",
        "outputId": "125b8975-2eba-415a-edd2-6ca910094745"
      },
      "outputs": [
        {
          "output_type": "stream",
          "name": "stdout",
          "text": [
            "/content/drive/MyDrive/DeepLearningCourse\n"
          ]
        }
      ],
      "source": [
        "cd drive/MyDrive/DeepLearningCourse"
      ]
    },
    {
      "cell_type": "code",
      "execution_count": 3,
      "metadata": {
        "id": "i6KtrhUvNYwL"
      },
      "outputs": [],
      "source": [
        "# !unzip -o images.zip #-o  overwrite files WITHOUT prompting(覆蓋文件不提示)"
      ]
    },
    {
      "cell_type": "code",
      "execution_count": 4,
      "metadata": {
        "id": "aZSghGWbYJpj"
      },
      "outputs": [],
      "source": [
        "import numpy as np\n",
        "import cv2 \n",
        "from google.colab.patches import cv2_imshow\n",
        "import random\n",
        "from sklearn.cluster import KMeans\n",
        "import matplotlib.pyplot as plt\n",
        "from sklearn.svm import SVC\n",
        "import sklearn\n",
        "from sklearn.model_selection import learning_curve\n",
        "from sklearn.multiclass import OneVsRestClassifier\n",
        "from sklearn.svm import SVC # support vector classifier\n",
        "import os\n",
        "%matplotlib inline"
      ]
    },
    {
      "cell_type": "markdown",
      "metadata": {
        "id": "OiudMN7o2up-"
      },
      "source": [
        "### Read images & create histogram"
      ]
    },
    {
      "cell_type": "markdown",
      "metadata": {
        "id": "TxRLhjc2bL_J"
      },
      "source": [
        "1. convert to gray\n",
        "2. BoVW : convert to histogram by BoVW"
      ]
    },
    {
      "cell_type": "code",
      "execution_count": 5,
      "metadata": {
        "id": "an-qeCQM_4K8"
      },
      "outputs": [],
      "source": [
        "# create BoVW:return Kmeans\n",
        "def BoVW():\n",
        "\n",
        "    SIFT_features=[]\n",
        "\n",
        "    # Specify the folder path\n",
        "    folder_path = \"images\"\n",
        "\n",
        "    # Loop over the subfolders in the folder\n",
        "    for subdir in os.listdir(folder_path):\n",
        "        subdir_path = os.path.join(folder_path, subdir)\n",
        "        if os.path.isdir(subdir_path):\n",
        "            # Loop over the files in the subfolder\n",
        "            count = 0\n",
        "            for filename in os.listdir(subdir_path):\n",
        "                file_path = os.path.join(subdir_path, filename)\n",
        "\n",
        "                if os.path.isfile(file_path):\n",
        "                    img = cv2.imread(file_path)\n",
        "                    img = cv2.cvtColor(img, cv2.COLOR_BGR2GRAY)\n",
        "                    kp, des = sift.detectAndCompute(img,None) \n",
        "                    # print(des)\n",
        "\n",
        "                    # Sample keypoints randomly\n",
        "                    sample_num = 50\n",
        "                    if len(des) > sample_num:\n",
        "                        des = random.sample(des.tolist(), sample_num)\n",
        "\n",
        "                    SIFT_features.extend(des)\n",
        "                    count += 1\n",
        "                \n",
        "                \n",
        "                # choose 10 images per class\n",
        "                if count >= 2:\n",
        "                    break\n",
        "\n",
        "    kmeans = KMeans(n_clusters = n_clusters_, random_state=0, n_init=10).fit(SIFT_features)\n",
        "    # n_init = \"auto\" 在某些版本才有, import 時需確認!\n",
        "\n",
        "    return kmeans\n",
        "        "
      ]
    },
    {
      "cell_type": "code",
      "execution_count": 6,
      "metadata": {
        "id": "GrxUEq-ApFcn"
      },
      "outputs": [],
      "source": [
        "# help function of feature extraction function\n",
        "# create histogram:return histogram of an image\n",
        "def create_histogram(des):\n",
        "    hist = [0]*n_clusters_\n",
        "    for i in range(len(des)):\n",
        "        X=[]\n",
        "        X.append(des[i])\n",
        "        idx = vocab.predict(X)\n",
        "\n",
        "        idx = idx[0]\n",
        "        # print(idx)\n",
        "        hist[idx]+=1\n",
        "    \n",
        "    return hist\n"
      ]
    },
    {
      "cell_type": "code",
      "execution_count": 7,
      "metadata": {
        "id": "Y0EZzjz1Odj8"
      },
      "outputs": [],
      "source": [
        "# init of main func\n",
        "\n",
        "n_clusters_ = 30\n",
        "sift = cv2.xfeatures2d.SIFT_create()\n",
        "vocab = BoVW()"
      ]
    },
    {
      "cell_type": "code",
      "execution_count": 8,
      "metadata": {
        "id": "u1rU85iq2r5v"
      },
      "outputs": [],
      "source": [
        "# main func : read image & feature extract\n",
        "\n",
        "def LoadImg2Hist(string):\n",
        "    count_img = [0]*50\n",
        "    count_lim = 500\n",
        "\n",
        "    path = ''\n",
        "    if string == 'train':\n",
        "        path = 'train.txt'\n",
        "    elif string == 'test':\n",
        "        path = 'test.txt'\n",
        "    elif string == 'val':\n",
        "        path = 'val.txt'\n",
        "\n",
        "    with open(path,'r') as fp:\n",
        "        count=0\n",
        "        X=[]\n",
        "        Y=[]\n",
        "        # num_read_lines = 20 # num of read lines in txt file (train.txt ...)\n",
        "        # while count!=num_read_lines:\n",
        "        # c = 0\n",
        "        while True:\n",
        "            # Get next line from file\n",
        "            line = fp.readline()\n",
        "\n",
        "            # if line is empty\n",
        "            # end of file is reached\n",
        "            if not line:\n",
        "                break\n",
        "              \n",
        "            # c+=1\n",
        "            # if c < 32000:\n",
        "            #     continue\n",
        "            # if c == 32500:\n",
        "            #     break\n",
        "            \n",
        "            loc ,ans = line.split(' ')\n",
        "            ans = int(ans[:-1]) #'\\n' is \"a\" character\n",
        "\n",
        "            if count_img[ans]>=count_lim:\n",
        "                continue\n",
        "            \n",
        "            if os.path.isfile(loc)==True:\n",
        "\n",
        "                img = cv2.imread(loc)\n",
        "                if img is None:\n",
        "                    continue\n",
        "\n",
        "                img = cv2.cvtColor(img, cv2.COLOR_BGR2GRAY)\n",
        "                kp, des = sift.detectAndCompute(img,None) \n",
        "                if des is None:\n",
        "                    continue\n",
        "\n",
        "                hist = create_histogram(des) # convert img to histogram(feature array)\n",
        "\n",
        "                X.append(hist)\n",
        "                Y.append(ans)\n",
        "\n",
        "                count_img[ans]+=1\n",
        "                count+=1\n",
        "\n",
        "                if count%1000==0:\n",
        "                    print(count)\n",
        "                \n",
        "        print(count)\n",
        "\n",
        "    return X,Y\n",
        "        \n"
      ]
    },
    {
      "cell_type": "code",
      "execution_count": 9,
      "metadata": {
        "id": "pqU0rtTb92c7"
      },
      "outputs": [],
      "source": [
        "from sklearn.preprocessing import StandardScaler\n",
        "\n",
        "def standardscaler(X):\n",
        "    scaler = StandardScaler()\n",
        "    X = scaler.fit_transform(X)\n",
        "    return X\n"
      ]
    },
    {
      "cell_type": "code",
      "execution_count": 10,
      "metadata": {
        "colab": {
          "base_uri": "https://localhost:8080/"
        },
        "id": "_rlqHuGXBIWN",
        "outputId": "20feed64-00f8-42af-cfb7-cbb5711a0897"
      },
      "outputs": [
        {
          "output_type": "stream",
          "name": "stdout",
          "text": [
            "1000\n",
            "2000\n",
            "3000\n",
            "4000\n",
            "5000\n",
            "6000\n",
            "7000\n",
            "8000\n",
            "9000\n",
            "10000\n",
            "11000\n",
            "12000\n",
            "13000\n",
            "14000\n",
            "15000\n",
            "16000\n",
            "17000\n",
            "18000\n",
            "19000\n",
            "20000\n",
            "21000\n",
            "22000\n",
            "23000\n",
            "24000\n",
            "25000\n",
            "25000\n",
            "450\n",
            "450\n"
          ]
        }
      ],
      "source": [
        "\n",
        "trainX, trainY = LoadImg2Hist('train')\n",
        "valX, valY = LoadImg2Hist('val')\n",
        "testX, testY = LoadImg2Hist('test')\n",
        "\n",
        "trainX = standardscaler(trainX)\n",
        "valX = standardscaler(valX)\n",
        "testX = standardscaler(testX)"
      ]
    },
    {
      "cell_type": "markdown",
      "metadata": {
        "id": "BiJxsZ63GpBT"
      },
      "source": [
        "#### shuffle training set:  \n",
        "By shuffling, you allow your model to \"see\" a wide range of data points each belonging to different classes in the context of classification.   \n",
        "If the model goes through a sorted training data, your model runs the risk of overfitting to certain classes."
      ]
    },
    {
      "cell_type": "code",
      "execution_count": 11,
      "metadata": {
        "id": "dsuMYtPPGgC3"
      },
      "outputs": [],
      "source": [
        "'''\n",
        "shuffle:\n",
        "If the model goes through a sorted training data, \n",
        "your model runs the risk of overfitting to certain classes.\n",
        "'''\n",
        "#shuffle training dataset!\n",
        "trainX, trainY = sklearn.utils.shuffle(trainX, trainY, random_state=42)\n"
      ]
    },
    {
      "cell_type": "markdown",
      "metadata": {
        "id": "6-ltejOjBqrX"
      },
      "source": [
        "### evaluation function : top1, top5"
      ]
    },
    {
      "cell_type": "code",
      "execution_count": 12,
      "metadata": {
        "id": "u6MSHZPQBy-l"
      },
      "outputs": [],
      "source": [
        "# top1\n",
        "def top1_accuracy(y_pred, y_true):\n",
        "    count = 0\n",
        "    num = len(y_pred)\n",
        "    for i in range(num):\n",
        "        if y_pred[i] == y_true[i]:\n",
        "            count+=1\n",
        "    return count/num\n"
      ]
    },
    {
      "cell_type": "code",
      "execution_count": 13,
      "metadata": {
        "id": "2otfwzr-Cc14"
      },
      "outputs": [],
      "source": [
        "# as long as it's in top 5, count as predicted correct\n",
        "def top5_accuracy(y_pred, y_true):\n",
        "    count = 0\n",
        "    num = len(y_pred)\n",
        "    for i in range(num):\n",
        "        for j in range(5):\n",
        "            if j < len(y_pred[i]) and y_pred[i][j]== y_true[i]:\n",
        "                count+=1\n",
        "                break\n",
        "    return count/num"
      ]
    },
    {
      "cell_type": "markdown",
      "metadata": {
        "id": "Omx-YrgtXtW7"
      },
      "source": [
        "### Model 1 : SGDClassifier"
      ]
    },
    {
      "cell_type": "code",
      "source": [
        "from sklearn.linear_model import SGDClassifier\n",
        "from sklearn.metrics import log_loss\n",
        "from sklearn.metrics import accuracy_score\n"
      ],
      "metadata": {
        "id": "zMCdHTnAFJN1"
      },
      "execution_count": 14,
      "outputs": []
    },
    {
      "cell_type": "code",
      "execution_count": 15,
      "metadata": {
        "id": "ne0CYqfHbtVh",
        "colab": {
          "base_uri": "https://localhost:8080/",
          "height": 334
        },
        "outputId": "725f0d46-9df5-49a5-f036-5ccb060d3718"
      },
      "outputs": [
        {
          "output_type": "stream",
          "name": "stderr",
          "text": [
            "/usr/local/lib/python3.9/dist-packages/sklearn/linear_model/_stochastic_gradient.py:163: FutureWarning: The loss 'log' was deprecated in v1.1 and will be removed in version 1.3. Use `loss='log_loss'` which is equivalent.\n",
            "  warnings.warn(\n"
          ]
        },
        {
          "output_type": "display_data",
          "data": {
            "text/plain": [
              "<Figure size 432x288 with 1 Axes>"
            ],
            "image/png": "[encoded data removed]"
          },
          "metadata": {
            "needs_background": "light"
          }
        }
      ],
      "source": [
        "\n",
        "\n",
        "# Define the SGD model\n",
        "SGD_model = SGDClassifier(loss=\"log\", penalty=\"l2\", random_state=42, max_iter=1, tol=None)\n",
        "\n",
        "# Train the model iteratively, and compute the multi_logloss after each iteration\n",
        "n_epochs = 100\n",
        "train_accuracies = []\n",
        "val_accuracies = []\n",
        "for epoch in range(n_epochs):\n",
        "    SGD_model.partial_fit(trainX, trainY, classes = np.unique(trainY))# incremental training\n",
        "    train_accuracies.append(top1_accuracy(trainY, SGD_model.predict(trainX)))\n",
        "    val_accuracies.append(top1_accuracy(valY, SGD_model.predict(valX)))\n",
        "\n",
        "# Plot the multi_logloss during training\n",
        "plt.plot(train_accuracies, label='train')\n",
        "plt.plot(val_accuracies, label='val')\n",
        "plt.xlabel('Epoch')\n",
        "plt.ylabel('Accuracy')\n",
        "plt.legend()\n",
        "plt.show()\n"
      ]
    },
    {
      "cell_type": "code",
      "source": [
        "# calculate predicted val/test accuracy\n",
        "def predict_accuracy(model, X,Y):\n",
        "\n",
        "    #top1\n",
        "    y_pred = model.predict(X) # type = ndarray\n",
        "    top1 = top1_accuracy(y_pred, Y)\n",
        "\n",
        "    #top5\n",
        "    y_pred = model.predict_proba(X)\n",
        "    best_5 = np.argsort(y_pred, axis=1)[:,-5:] # 取後面5個\n",
        "    top5 = top5_accuracy(best_5, Y)\n",
        "\n",
        "    return top1, top5"
      ],
      "metadata": {
        "id": "regR3ETmFVuR"
      },
      "execution_count": 16,
      "outputs": []
    },
    {
      "cell_type": "code",
      "execution_count": 17,
      "metadata": {
        "id": "7PQrV_JRZr7Z",
        "colab": {
          "base_uri": "https://localhost:8080/"
        },
        "outputId": "adda7c47-ec37-45aa-ae61-bded97c0693a"
      },
      "outputs": [
        {
          "output_type": "stream",
          "name": "stdout",
          "text": [
            "validation top-1 accuracy : 0.14\n",
            "validation top-5 accuracy : 0.39\n",
            "testing top-1 accuracy : 0.15\n",
            "testing top-5 accuracy : 0.40\n"
          ]
        }
      ],
      "source": [
        "\n",
        "val_top1_accu, val_top5_accu = predict_accuracy(SGD_model, valX, valY)\n",
        "test_top1_accu, test_top5_accu = predict_accuracy(SGD_model, testX, testY)\n",
        "print(f'validation top-1 accuracy : {val_top1_accu:0.2f}')\n",
        "print(f'validation top-5 accuracy : {val_top5_accu:0.2f}')\n",
        "print(f'testing top-1 accuracy : {test_top1_accu:0.2f}')\n",
        "print(f'testing top-5 accuracy : {test_top5_accu:0.2f}')"
      ]
    },
    {
      "cell_type": "markdown",
      "metadata": {
        "id": "Jo4ihqGubDe8"
      },
      "source": [
        "###Model 2 : CatBoost\n",
        "CatBoost is an algorithm for gradient boosting on decision trees."
      ]
    },
    {
      "cell_type": "code",
      "source": [
        "!pip install catboost"
      ],
      "metadata": {
        "id": "YYhWfR6hd4ed",
        "colab": {
          "base_uri": "https://localhost:8080/"
        },
        "outputId": "661665b2-a0ff-471e-d91b-cb0026593ae1"
      },
      "execution_count": 18,
      "outputs": [
        {
          "output_type": "stream",
          "name": "stdout",
          "text": [
            "Looking in indexes: https://pypi.org/simple, https://us-python.pkg.dev/colab-wheels/public/simple/\n",
            "Collecting catboost\n",
            "  Downloading catboost-1.1.1-cp39-none-manylinux1_x86_64.whl (76.6 MB)\n",
            "\u001b[2K     \u001b[90m━━━━━━━━━━━━━━━━━━━━━━━━━━━━━━━━━━━━━━━━\u001b[0m \u001b[32m76.6/76.6 MB\u001b[0m \u001b[31m8.3 MB/s\u001b[0m eta \u001b[36m0:00:00\u001b[0m\n",
            "\u001b[?25hRequirement already satisfied: matplotlib in /usr/local/lib/python3.9/dist-packages (from catboost) (3.5.3)\n",
            "Requirement already satisfied: six in /usr/local/lib/python3.9/dist-packages (from catboost) (1.15.0)\n",
            "Requirement already satisfied: pandas>=0.24.0 in /usr/local/lib/python3.9/dist-packages (from catboost) (1.4.4)\n",
            "Requirement already satisfied: scipy in /usr/local/lib/python3.9/dist-packages (from catboost) (1.10.1)\n",
            "Requirement already satisfied: numpy>=1.16.0 in /usr/local/lib/python3.9/dist-packages (from catboost) (1.22.4)\n",
            "Requirement already satisfied: plotly in /usr/local/lib/python3.9/dist-packages (from catboost) (5.5.0)\n",
            "Requirement already satisfied: graphviz in /usr/local/lib/python3.9/dist-packages (from catboost) (0.10.1)\n",
            "Requirement already satisfied: pytz>=2020.1 in /usr/local/lib/python3.9/dist-packages (from pandas>=0.24.0->catboost) (2022.7.1)\n",
            "Requirement already satisfied: python-dateutil>=2.8.1 in /usr/local/lib/python3.9/dist-packages (from pandas>=0.24.0->catboost) (2.8.2)\n",
            "Requirement already satisfied: cycler>=0.10 in /usr/local/lib/python3.9/dist-packages (from matplotlib->catboost) (0.11.0)\n",
            "Requirement already satisfied: pillow>=6.2.0 in /usr/local/lib/python3.9/dist-packages (from matplotlib->catboost) (8.4.0)\n",
            "Requirement already satisfied: pyparsing>=2.2.1 in /usr/local/lib/python3.9/dist-packages (from matplotlib->catboost) (3.0.9)\n",
            "Requirement already satisfied: packaging>=20.0 in /usr/local/lib/python3.9/dist-packages (from matplotlib->catboost) (23.0)\n",
            "Requirement already satisfied: fonttools>=4.22.0 in /usr/local/lib/python3.9/dist-packages (from matplotlib->catboost) (4.39.0)\n",
            "Requirement already satisfied: kiwisolver>=1.0.1 in /usr/local/lib/python3.9/dist-packages (from matplotlib->catboost) (1.4.4)\n",
            "Requirement already satisfied: tenacity>=6.2.0 in /usr/local/lib/python3.9/dist-packages (from plotly->catboost) (8.2.2)\n",
            "Installing collected packages: catboost\n",
            "Successfully installed catboost-1.1.1\n"
          ]
        }
      ]
    },
    {
      "cell_type": "code",
      "source": [
        "from catboost import CatBoostClassifier"
      ],
      "metadata": {
        "id": "stCcA1VCZOjj"
      },
      "execution_count": 19,
      "outputs": []
    },
    {
      "cell_type": "code",
      "source": [
        "# Initialize the model\n",
        "n_epochs = 100\n",
        "cat_model = CatBoostClassifier(loss_function='MultiClass', custom_metric=\"Accuracy\", iterations = n_epochs)\n",
        "\n",
        "# Train the model\n",
        "cat_model.fit(trainX, trainY, eval_set=(valX, valY))\n",
        "\n",
        "# Generate training accuracy graph\n",
        "train_acc = cat_model.get_evals_result()['learn']['Accuracy']\n",
        "val_acc = cat_model.get_evals_result()['validation']['Accuracy']\n",
        "iterations = range(len(train_acc))\n",
        "plt.plot(iterations, train_acc, label='Train')\n",
        "plt.plot(iterations, val_acc, label='Validation')\n",
        "plt.xlabel('Epoch')\n",
        "plt.ylabel('Accuracy')\n",
        "plt.legend()\n",
        "plt.show()\n",
        "# model.get_evals_result() : dict_keys(['learn', 'validation'])\n",
        "\n"
      ],
      "metadata": {
        "id": "6V8bzzAjwcBn",
        "colab": {
          "base_uri": "https://localhost:8080/",
          "height": 1000
        },
        "outputId": "aba081a9-c073-452c-a2d4-a0ee3fc61e2b"
      },
      "execution_count": 20,
      "outputs": [
        {
          "output_type": "stream",
          "name": "stdout",
          "text": [
            "Learning rate set to 0.277515\n",
            "0:\tlearn: 3.7857796\ttest: 3.8087381\tbest: 3.8087381 (0)\ttotal: 910ms\tremaining: 1m 30s\n",
            "1:\tlearn: 3.6973028\ttest: 3.7276145\tbest: 3.7276145 (1)\ttotal: 1.82s\tremaining: 1m 29s\n",
            "2:\tlearn: 3.6360792\ttest: 3.6799171\tbest: 3.6799171 (2)\ttotal: 2.91s\tremaining: 1m 33s\n",
            "3:\tlearn: 3.5972545\ttest: 3.6509497\tbest: 3.6509497 (3)\ttotal: 4.12s\tremaining: 1m 38s\n",
            "4:\tlearn: 3.5580123\ttest: 3.6219372\tbest: 3.6219372 (4)\ttotal: 5.35s\tremaining: 1m 41s\n",
            "5:\tlearn: 3.5200975\ttest: 3.5949655\tbest: 3.5949655 (5)\ttotal: 6.73s\tremaining: 1m 45s\n",
            "6:\tlearn: 3.4848491\ttest: 3.5737451\tbest: 3.5737451 (6)\ttotal: 7.85s\tremaining: 1m 44s\n",
            "7:\tlearn: 3.4558803\ttest: 3.5520989\tbest: 3.5520989 (7)\ttotal: 9.67s\tremaining: 1m 51s\n",
            "8:\tlearn: 3.4356015\ttest: 3.5450032\tbest: 3.5450032 (8)\ttotal: 12.1s\tremaining: 2m 2s\n",
            "9:\tlearn: 3.4260850\ttest: 3.5407617\tbest: 3.5407617 (9)\ttotal: 14.2s\tremaining: 2m 7s\n",
            "10:\tlearn: 3.4101722\ttest: 3.5267131\tbest: 3.5267131 (10)\ttotal: 15.8s\tremaining: 2m 7s\n",
            "11:\tlearn: 3.3901519\ttest: 3.5169189\tbest: 3.5169189 (11)\ttotal: 17.3s\tremaining: 2m 6s\n",
            "12:\tlearn: 3.3711386\ttest: 3.5001544\tbest: 3.5001544 (12)\ttotal: 18.6s\tremaining: 2m 4s\n",
            "13:\tlearn: 3.3515608\ttest: 3.4964705\tbest: 3.4964705 (13)\ttotal: 19.9s\tremaining: 2m 2s\n",
            "14:\tlearn: 3.3313150\ttest: 3.4859476\tbest: 3.4859476 (14)\ttotal: 21.3s\tremaining: 2m\n",
            "15:\tlearn: 3.3247360\ttest: 3.4812858\tbest: 3.4812858 (15)\ttotal: 23s\tremaining: 2m\n",
            "16:\tlearn: 3.3108966\ttest: 3.4772790\tbest: 3.4772790 (16)\ttotal: 24.4s\tremaining: 1m 59s\n",
            "17:\tlearn: 3.2909571\ttest: 3.4661022\tbest: 3.4661022 (17)\ttotal: 26.7s\tremaining: 2m 1s\n",
            "18:\tlearn: 3.2810420\ttest: 3.4608338\tbest: 3.4608338 (18)\ttotal: 29.3s\tremaining: 2m 4s\n",
            "19:\tlearn: 3.2710479\ttest: 3.4590281\tbest: 3.4590281 (19)\ttotal: 31.8s\tremaining: 2m 7s\n",
            "20:\tlearn: 3.2586527\ttest: 3.4511886\tbest: 3.4511886 (20)\ttotal: 33.9s\tremaining: 2m 7s\n",
            "21:\tlearn: 3.2419858\ttest: 3.4475402\tbest: 3.4475402 (21)\ttotal: 35.1s\tremaining: 2m 4s\n",
            "22:\tlearn: 3.2294427\ttest: 3.4437719\tbest: 3.4437719 (22)\ttotal: 35.8s\tremaining: 1m 59s\n",
            "23:\tlearn: 3.2128889\ttest: 3.4359111\tbest: 3.4359111 (23)\ttotal: 36.5s\tremaining: 1m 55s\n",
            "24:\tlearn: 3.2090466\ttest: 3.4328926\tbest: 3.4328926 (24)\ttotal: 37.1s\tremaining: 1m 51s\n",
            "25:\tlearn: 3.1917657\ttest: 3.4257505\tbest: 3.4257505 (25)\ttotal: 37.8s\tremaining: 1m 47s\n",
            "26:\tlearn: 3.1848619\ttest: 3.4246107\tbest: 3.4246107 (26)\ttotal: 38.5s\tremaining: 1m 44s\n",
            "27:\tlearn: 3.1805634\ttest: 3.4205934\tbest: 3.4205934 (27)\ttotal: 39.2s\tremaining: 1m 40s\n",
            "28:\tlearn: 3.1729660\ttest: 3.4195302\tbest: 3.4195302 (28)\ttotal: 39.9s\tremaining: 1m 37s\n",
            "29:\tlearn: 3.1633837\ttest: 3.4160176\tbest: 3.4160176 (29)\ttotal: 40.5s\tremaining: 1m 34s\n",
            "30:\tlearn: 3.1517911\ttest: 3.4084324\tbest: 3.4084324 (30)\ttotal: 41.2s\tremaining: 1m 31s\n",
            "31:\tlearn: 3.1474461\ttest: 3.4063947\tbest: 3.4063947 (31)\ttotal: 41.9s\tremaining: 1m 28s\n",
            "32:\tlearn: 3.1384512\ttest: 3.4048277\tbest: 3.4048277 (32)\ttotal: 42.5s\tremaining: 1m 26s\n",
            "33:\tlearn: 3.1312149\ttest: 3.4052494\tbest: 3.4048277 (32)\ttotal: 43.2s\tremaining: 1m 23s\n",
            "34:\tlearn: 3.1174246\ttest: 3.3958606\tbest: 3.3958606 (34)\ttotal: 44s\tremaining: 1m 21s\n",
            "35:\tlearn: 3.1065157\ttest: 3.3916888\tbest: 3.3916888 (35)\ttotal: 45.3s\tremaining: 1m 20s\n",
            "36:\tlearn: 3.1011348\ttest: 3.3887383\tbest: 3.3887383 (36)\ttotal: 46.7s\tremaining: 1m 19s\n",
            "37:\tlearn: 3.0896518\ttest: 3.3863451\tbest: 3.3863451 (37)\ttotal: 48s\tremaining: 1m 18s\n",
            "38:\tlearn: 3.0817778\ttest: 3.3808947\tbest: 3.3808947 (38)\ttotal: 48.8s\tremaining: 1m 16s\n",
            "39:\tlearn: 3.0726582\ttest: 3.3791486\tbest: 3.3791486 (39)\ttotal: 49.5s\tremaining: 1m 14s\n",
            "40:\tlearn: 3.0603259\ttest: 3.3739508\tbest: 3.3739508 (40)\ttotal: 50.1s\tremaining: 1m 12s\n",
            "41:\tlearn: 3.0531874\ttest: 3.3747224\tbest: 3.3739508 (40)\ttotal: 50.8s\tremaining: 1m 10s\n",
            "42:\tlearn: 3.0491190\ttest: 3.3724469\tbest: 3.3724469 (42)\ttotal: 51.5s\tremaining: 1m 8s\n",
            "43:\tlearn: 3.0444859\ttest: 3.3717989\tbest: 3.3717989 (43)\ttotal: 52.2s\tremaining: 1m 6s\n",
            "44:\tlearn: 3.0364253\ttest: 3.3710892\tbest: 3.3710892 (44)\ttotal: 52.8s\tremaining: 1m 4s\n",
            "45:\tlearn: 3.0281553\ttest: 3.3686963\tbest: 3.3686963 (45)\ttotal: 53.5s\tremaining: 1m 2s\n",
            "46:\tlearn: 3.0236797\ttest: 3.3662373\tbest: 3.3662373 (46)\ttotal: 54.2s\tremaining: 1m 1s\n",
            "47:\tlearn: 3.0145081\ttest: 3.3674251\tbest: 3.3662373 (46)\ttotal: 54.8s\tremaining: 59.4s\n",
            "48:\tlearn: 3.0089988\ttest: 3.3654433\tbest: 3.3654433 (48)\ttotal: 55.5s\tremaining: 57.8s\n",
            "49:\tlearn: 3.0069907\ttest: 3.3635483\tbest: 3.3635483 (49)\ttotal: 56.2s\tremaining: 56.2s\n",
            "50:\tlearn: 3.0014934\ttest: 3.3611329\tbest: 3.3611329 (50)\ttotal: 56.9s\tremaining: 54.6s\n",
            "51:\tlearn: 2.9968999\ttest: 3.3603499\tbest: 3.3603499 (51)\ttotal: 57.5s\tremaining: 53.1s\n",
            "52:\tlearn: 2.9899606\ttest: 3.3562394\tbest: 3.3562394 (52)\ttotal: 58.2s\tremaining: 51.6s\n",
            "53:\tlearn: 2.9841597\ttest: 3.3518447\tbest: 3.3518447 (53)\ttotal: 59.4s\tremaining: 50.6s\n",
            "54:\tlearn: 2.9791423\ttest: 3.3509609\tbest: 3.3509609 (54)\ttotal: 1m\tremaining: 49.7s\n",
            "55:\tlearn: 2.9716718\ttest: 3.3518496\tbest: 3.3509609 (54)\ttotal: 1m 1s\tremaining: 48.7s\n",
            "56:\tlearn: 2.9705990\ttest: 3.3517306\tbest: 3.3509609 (54)\ttotal: 1m 3s\tremaining: 47.7s\n",
            "57:\tlearn: 2.9648116\ttest: 3.3485375\tbest: 3.3485375 (57)\ttotal: 1m 3s\tremaining: 46.2s\n",
            "58:\tlearn: 2.9554450\ttest: 3.3447767\tbest: 3.3447767 (58)\ttotal: 1m 4s\tremaining: 44.8s\n",
            "59:\tlearn: 2.9476284\ttest: 3.3375892\tbest: 3.3375892 (59)\ttotal: 1m 5s\tremaining: 43.5s\n",
            "60:\tlearn: 2.9401383\ttest: 3.3368924\tbest: 3.3368924 (60)\ttotal: 1m 5s\tremaining: 42.1s\n",
            "61:\tlearn: 2.9331641\ttest: 3.3370291\tbest: 3.3368924 (60)\ttotal: 1m 6s\tremaining: 40.8s\n",
            "62:\tlearn: 2.9303461\ttest: 3.3353583\tbest: 3.3353583 (62)\ttotal: 1m 7s\tremaining: 39.5s\n",
            "63:\tlearn: 2.9279282\ttest: 3.3344845\tbest: 3.3344845 (63)\ttotal: 1m 7s\tremaining: 38.2s\n",
            "64:\tlearn: 2.9215587\ttest: 3.3330695\tbest: 3.3330695 (64)\ttotal: 1m 8s\tremaining: 36.9s\n",
            "65:\tlearn: 2.9174773\ttest: 3.3316945\tbest: 3.3316945 (65)\ttotal: 1m 9s\tremaining: 35.6s\n",
            "66:\tlearn: 2.9133956\ttest: 3.3289776\tbest: 3.3289776 (66)\ttotal: 1m 9s\tremaining: 34.4s\n",
            "67:\tlearn: 2.9062311\ttest: 3.3265536\tbest: 3.3265536 (67)\ttotal: 1m 10s\tremaining: 33.2s\n",
            "68:\tlearn: 2.9001614\ttest: 3.3258027\tbest: 3.3258027 (68)\ttotal: 1m 11s\tremaining: 32s\n",
            "69:\tlearn: 2.8942690\ttest: 3.3246657\tbest: 3.3246657 (69)\ttotal: 1m 11s\tremaining: 30.8s\n",
            "70:\tlearn: 2.8857499\ttest: 3.3205645\tbest: 3.3205645 (70)\ttotal: 1m 12s\tremaining: 29.6s\n",
            "71:\tlearn: 2.8755596\ttest: 3.3196112\tbest: 3.3196112 (71)\ttotal: 1m 13s\tremaining: 28.5s\n",
            "72:\tlearn: 2.8732595\ttest: 3.3187151\tbest: 3.3187151 (72)\ttotal: 1m 14s\tremaining: 27.6s\n",
            "73:\tlearn: 2.8707670\ttest: 3.3189222\tbest: 3.3187151 (72)\ttotal: 1m 15s\tremaining: 26.6s\n",
            "74:\tlearn: 2.8694205\ttest: 3.3193207\tbest: 3.3187151 (72)\ttotal: 1m 17s\tremaining: 25.7s\n",
            "75:\tlearn: 2.8667347\ttest: 3.3201118\tbest: 3.3187151 (72)\ttotal: 1m 18s\tremaining: 24.8s\n",
            "76:\tlearn: 2.8622325\ttest: 3.3213281\tbest: 3.3187151 (72)\ttotal: 1m 19s\tremaining: 23.8s\n",
            "77:\tlearn: 2.8528871\ttest: 3.3169020\tbest: 3.3169020 (77)\ttotal: 1m 20s\tremaining: 22.8s\n",
            "78:\tlearn: 2.8468017\ttest: 3.3168496\tbest: 3.3168496 (78)\ttotal: 1m 22s\tremaining: 21.9s\n",
            "79:\tlearn: 2.8434864\ttest: 3.3184918\tbest: 3.3168496 (78)\ttotal: 1m 23s\tremaining: 20.8s\n",
            "80:\tlearn: 2.8384091\ttest: 3.3170473\tbest: 3.3168496 (78)\ttotal: 1m 23s\tremaining: 19.7s\n",
            "81:\tlearn: 2.8346061\ttest: 3.3147469\tbest: 3.3147469 (81)\ttotal: 1m 24s\tremaining: 18.5s\n",
            "82:\tlearn: 2.8311316\ttest: 3.3143030\tbest: 3.3143030 (82)\ttotal: 1m 25s\tremaining: 17.4s\n",
            "83:\tlearn: 2.8259058\ttest: 3.3140288\tbest: 3.3140288 (83)\ttotal: 1m 25s\tremaining: 16.4s\n",
            "84:\tlearn: 2.8222545\ttest: 3.3145464\tbest: 3.3140288 (83)\ttotal: 1m 26s\tremaining: 15.3s\n",
            "85:\tlearn: 2.8141015\ttest: 3.3128150\tbest: 3.3128150 (85)\ttotal: 1m 27s\tremaining: 14.2s\n",
            "86:\tlearn: 2.8083695\ttest: 3.3123848\tbest: 3.3123848 (86)\ttotal: 1m 27s\tremaining: 13.1s\n",
            "87:\tlearn: 2.8063699\ttest: 3.3129133\tbest: 3.3123848 (86)\ttotal: 1m 28s\tremaining: 12.1s\n",
            "88:\tlearn: 2.7997047\ttest: 3.3121648\tbest: 3.3121648 (88)\ttotal: 1m 29s\tremaining: 11s\n",
            "89:\tlearn: 2.7988552\ttest: 3.3123417\tbest: 3.3121648 (88)\ttotal: 1m 30s\tremaining: 10.1s\n",
            "90:\tlearn: 2.7953869\ttest: 3.3120168\tbest: 3.3120168 (90)\ttotal: 1m 31s\tremaining: 9.08s\n",
            "91:\tlearn: 2.7920510\ttest: 3.3135202\tbest: 3.3120168 (90)\ttotal: 1m 33s\tremaining: 8.1s\n",
            "92:\tlearn: 2.7886281\ttest: 3.3134921\tbest: 3.3120168 (90)\ttotal: 1m 34s\tremaining: 7.09s\n",
            "93:\tlearn: 2.7838524\ttest: 3.3133063\tbest: 3.3120168 (90)\ttotal: 1m 34s\tremaining: 6.05s\n",
            "94:\tlearn: 2.7796626\ttest: 3.3128832\tbest: 3.3120168 (90)\ttotal: 1m 35s\tremaining: 5.03s\n",
            "95:\tlearn: 2.7739504\ttest: 3.3133059\tbest: 3.3120168 (90)\ttotal: 1m 36s\tremaining: 4.01s\n",
            "96:\tlearn: 2.7697903\ttest: 3.3122406\tbest: 3.3120168 (90)\ttotal: 1m 36s\tremaining: 3s\n",
            "97:\tlearn: 2.7642692\ttest: 3.3105172\tbest: 3.3105172 (97)\ttotal: 1m 37s\tremaining: 1.99s\n",
            "98:\tlearn: 2.7621462\ttest: 3.3099716\tbest: 3.3099716 (98)\ttotal: 1m 38s\tremaining: 992ms\n",
            "99:\tlearn: 2.7558927\ttest: 3.3073333\tbest: 3.3073333 (99)\ttotal: 1m 38s\tremaining: 0us\n",
            "\n",
            "bestTest = 3.307333293\n",
            "bestIteration = 99\n",
            "\n"
          ]
        },
        {
          "output_type": "display_data",
          "data": {
            "text/plain": [
              "<Figure size 432x288 with 1 Axes>"
            ],
            "image/png": "[encoded data removed]"
          },
          "metadata": {
            "needs_background": "light"
          }
        }
      ]
    },
    {
      "cell_type": "code",
      "execution_count": 21,
      "metadata": {
        "id": "uQ9J4kHokWgD",
        "colab": {
          "base_uri": "https://localhost:8080/"
        },
        "outputId": "7658deae-a54d-4edb-a81a-844cc0d99b14"
      },
      "outputs": [
        {
          "output_type": "stream",
          "name": "stdout",
          "text": [
            "validation top-1 accuracy : 0.14\n",
            "validation top-5 accuracy : 0.42\n",
            "testing top-1 accuracy : 0.16\n",
            "testing top-5 accuracy : 0.43\n"
          ]
        }
      ],
      "source": [
        "# calculate predicted val/test accuracy\n",
        "# problem! predict_prob -> _predict_proba_lr\n",
        "val_top1_accu, val_top5_accu = predict_accuracy(cat_model, valX, valY)\n",
        "test_top1_accu, test_top5_accu = predict_accuracy(cat_model, testX, testY)\n",
        "print(f'validation top-1 accuracy : {val_top1_accu:0.2f}')\n",
        "print(f'validation top-5 accuracy : {val_top5_accu:0.2f}')\n",
        "print(f'testing top-1 accuracy : {test_top1_accu:0.2f}')\n",
        "print(f'testing top-5 accuracy : {test_top5_accu:0.2f}')"
      ]
    },
    {
      "cell_type": "markdown",
      "metadata": {
        "id": "6P27c5JmXWp7"
      },
      "source": [
        "### Model 3 : MLP\n"
      ]
    },
    {
      "cell_type": "code",
      "source": [
        "from sklearn.neural_network import MLPClassifier"
      ],
      "metadata": {
        "id": "MrSud5AkFFov"
      },
      "execution_count": 22,
      "outputs": []
    },
    {
      "cell_type": "code",
      "source": [
        "\n",
        "\n",
        "# Define the Perceptron model\n",
        "mlp_model = MLPClassifier(solver='sgd')\n",
        "\n",
        "# Train the model iteratively, and compute the multi_logloss after each iteration\n",
        "n_epochs = 100\n",
        "train_accuracies = []\n",
        "val_accuracies = []\n",
        "for epoch in range(n_epochs):\n",
        "    mlp_model.partial_fit(trainX, trainY, classes = np.unique(trainY))\n",
        "    train_accuracies.append(top1_accuracy(trainY, mlp_model.predict(trainX)))\n",
        "    val_accuracies.append(top1_accuracy(valY, mlp_model.predict(valX)))\n",
        "\n",
        "# Plot the multi_logloss during training\n",
        "plt.plot(train_accuracies, label='train')\n",
        "plt.plot(val_accuracies, label='val')\n",
        "plt.xlabel('Epoch')\n",
        "plt.ylabel('Accuracy')\n",
        "plt.legend()\n",
        "plt.show()\n"
      ],
      "metadata": {
        "id": "zxRSdmO04_uB",
        "colab": {
          "base_uri": "https://localhost:8080/",
          "height": 279
        },
        "outputId": "513f70c6-8264-4f2b-bf35-a9e5c50b5541"
      },
      "execution_count": 23,
      "outputs": [
        {
          "output_type": "display_data",
          "data": {
            "text/plain": [
              "<Figure size 432x288 with 1 Axes>"
            ],
            "image/png": "[encoded data removed]"
          },
          "metadata": {
            "needs_background": "light"
          }
        }
      ]
    },
    {
      "cell_type": "code",
      "source": [
        "val_top1_accu, val_top5_accu = predict_accuracy(mlp_model, valX, valY)\n",
        "test_top1_accu, test_top5_accu = predict_accuracy(mlp_model, testX, testY)\n",
        "print(f'validation top-1 accuracy : {val_top1_accu:0.2f}')\n",
        "print(f'validation top-5 accuracy : {val_top5_accu:0.2f}')\n",
        "print(f'testing top-1 accuracy : {test_top1_accu:0.2f}')\n",
        "print(f'testing top-5 accuracy : {test_top5_accu:0.2f}')"
      ],
      "metadata": {
        "id": "_47bfj0jeaZ8",
        "colab": {
          "base_uri": "https://localhost:8080/"
        },
        "outputId": "898160ed-d7ff-48db-dade-d8de2541ae34"
      },
      "execution_count": 24,
      "outputs": [
        {
          "output_type": "stream",
          "name": "stdout",
          "text": [
            "validation top-1 accuracy : 0.15\n",
            "validation top-5 accuracy : 0.41\n",
            "testing top-1 accuracy : 0.15\n",
            "testing top-5 accuracy : 0.41\n"
          ]
        }
      ]
    }
  ],
  "metadata": {
    "colab": {
      "provenance": []
    },
    "gpuClass": "standard",
    "kernelspec": {
      "display_name": "Python 3",
      "name": "python3"
    },
    "language_info": {
      "name": "python"
    }
  },
  "nbformat": 4,
  "nbformat_minor": 0
}